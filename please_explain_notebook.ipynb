{
 "cells": [
  {
   "cell_type": "markdown",
   "metadata": {},
   "source": [
    "## DataRobot Python API To Generate Feature Explanations and Feature Effects\n",
    "\n",
    "\n",
    "This notebook is designed to be run on a schedule (in quiet times) to look at all projects and generate feature explanations and feature effects.\n",
    "<br>\n",
    "\n",
    "There are a number of settings to make this most appropriate for your environment:\n",
    "\n",
    "1. Specifying your Variables <br>\n",
    "2. Define the function <br>\n",
    "3. Run the project <br>\n",
    "\n",
    "<b>Scheduling</b>\n",
    "\n",
    "This scipt will likely be most useful being scheduled. Read more about scheduling here [here](https://new-docs.zepl.com/docs/using-the-zepl-notebook/run/runtime-management#scheduled-jobs)."
   ]
  },
  {
   "cell_type": "markdown",
   "metadata": {},
   "source": [
    "### Import Libraries and set token"
   ]
  },
  {
   "cell_type": "code",
   "execution_count": 82,
   "metadata": {
    "code_folding": []
   },
   "outputs": [
    {
     "data": {
      "text/plain": [
       "<datarobot.rest.RESTClientObject at 0x11eb59dd8>"
      ]
     },
     "execution_count": 82,
     "metadata": {},
     "output_type": "execute_result"
    }
   ],
   "source": [
    "import datarobot as dr\n",
    "import datetime\n",
    "# If you're using Zepl, use the two below lines syntax, otherwise use the regular yaml file to store your creds (the last line).\n",
    "# token = z.getDatasource(\"callums_dr_token\")['datarobot_token']\n",
    "# dr.Client(token=token , endpoint='https://app.datarobot.com/api/v2')\n",
    "dr.Client(config_path = 'drconfig.yaml')\n"
   ]
  },
  {
   "cell_type": "markdown",
   "metadata": {
    "code_folding": []
   },
   "source": [
    "### 1. Set the two variables (how many models to generate the features for and how many days to look back)"
   ]
  },
  {
   "cell_type": "code",
   "execution_count": 83,
   "metadata": {},
   "outputs": [],
   "source": [
    "# number of models to generatee explainations on\n",
    "models_to_generate_explanations= 3\n",
    "# number ofdays to look back\n",
    "days_to_look_back= 180"
   ]
  },
  {
   "cell_type": "markdown",
   "metadata": {
    "solution": "hidden"
   },
   "source": [
    "### 2. Defining a function to do the work\n",
    "Once this function is defined all that is needed is to call the `generate_fe_and_pe(dr, models_to_generate_explanations, days_to_look_back)` method."
   ]
  },
  {
   "cell_type": "code",
   "execution_count": 84,
   "metadata": {
    "code_folding": []
   },
   "outputs": [],
   "source": [
    "#function to generate feature explanations and prediction explanations\n",
    "def generate_fe_and_pe(dr, models_to_generate_explanations, days_to_look_back):\n",
    "    project_list = dr.Project.list()\n",
    "    counter_number_of_projects_kicked_off=0\n",
    "    for project in project_list:\n",
    "        delta = datetime.datetime.now() - project.created.replace(tzinfo=None)\n",
    "        if delta.days < days_to_look_back:\n",
    "            print (\"Generating features and explanations for Projectid \" + str(project.id))\n",
    "            # get all models for a project\n",
    "            models = project.get_models()\n",
    "            #generate explanations for n top models:\n",
    "            i = 0\n",
    "            for model in models:\n",
    "                if i < models_to_generate_explanations:\n",
    "                    feature_effects = model.get_or_request_feature_effect(source='validation')\n",
    "                    # Initialise prediction explanations\n",
    "                    dr.PredictionExplanationsInitialization.create(project.id, model.id)\n",
    "                    i += 1\n",
    "            counter_number_of_projects_kicked_off+=1\n",
    "    return counter_number_of_projects_kicked_off"
   ]
  },
  {
   "cell_type": "markdown",
   "metadata": {},
   "source": [
    "### 3. Do the work\n",
    "Run the below command to check the projects for feature explanations and effects"
   ]
  },
  {
   "cell_type": "code",
   "execution_count": 85,
   "metadata": {},
   "outputs": [
    {
     "name": "stdout",
     "output_type": "stream",
     "text": [
      "Generating features and explanations for Projectid 61ff69ef3e70297344ebd6e2\n",
      "Generating features and explanations for Projectid 61ff697344a5cec2d95aa857\n",
      "Generating features and explanations for Projectid 61a856caa3ea0592f41f2a49\n",
      "Generating features and explanations for Projectid 619c10d25099d519f72a3250\n",
      "Generating features and explanations for Projectid 619713fa05075859aa2a3296\n",
      "Generating features and explanations for Projectid 619713866193a38992d6868e\n",
      "Generating features and explanations for Projectid 6197130405075859aa2a3286\n",
      "Generating features and explanations for Projectid 61971283cc631fffe82a34af\n",
      "Generating features and explanations for Projectid 6196ddf1a4614438c2d68967\n",
      "Generating features and explanations for Projectid 6195c9ae0d6ff118d32a309d\n",
      "Generating features and explanations for Projectid 6195c78e296f69d2bb2a337d\n",
      "Generating features and explanations for Projectid 6195c517296f69d2bb2a3365\n",
      "Generating features and explanations for Projectid 6195bdad163ef42a9cd689f5\n",
      "Generating features and explanations for Projectid 6174f0bd6e31e58dba3f018c\n"
     ]
    },
    {
     "ename": "AsyncTimeoutError",
     "evalue": "Client timed out in 600 seconds waiting for projects/6174f0bd6e31e58dba3f018c/jobs/66/ to resolve. Last status was 200: {\"id\": \"66\", \"projectId\": \"6174f0bd6e31e58dba3f018c\", \"status\": \"inprogress\", \"jobType\": \"featureEffects\", \"isBlocked\": false, \"url\": \"https://app.datarobot.com/api/v2/projects/6174f0bd6e31e58dba3f018c/jobs/66/\", \"modelId\": \"617500f0d3f1cfb6ee816265\"}",
     "output_type": "error",
     "traceback": [
      "\u001b[0;31m---------------------------------------------------------------------------\u001b[0m",
      "\u001b[0;31mAsyncTimeoutError\u001b[0m                         Traceback (most recent call last)",
      "\u001b[0;32m/var/folders/gw/pjc5mt1s3rgc88tjyzrx84cm0000gq/T/ipykernel_71095/2193267782.py\u001b[0m in \u001b[0;36m<module>\u001b[0;34m\u001b[0m\n\u001b[0;32m----> 1\u001b[0;31m \u001b[0mprint\u001b[0m \u001b[0;34m(\u001b[0m\u001b[0;34m\"Number of projects Processed =\"\u001b[0m \u001b[0;34m+\u001b[0m \u001b[0mstr\u001b[0m\u001b[0;34m(\u001b[0m \u001b[0mgenerate_fe_and_pe\u001b[0m\u001b[0;34m(\u001b[0m\u001b[0mdr\u001b[0m\u001b[0;34m,\u001b[0m \u001b[0mmodels_to_generate_explanations\u001b[0m\u001b[0;34m,\u001b[0m \u001b[0mdays_to_look_back\u001b[0m\u001b[0;34m)\u001b[0m\u001b[0;34m)\u001b[0m\u001b[0;34m)\u001b[0m\u001b[0;34m\u001b[0m\u001b[0;34m\u001b[0m\u001b[0m\n\u001b[0m",
      "\u001b[0;32m/var/folders/gw/pjc5mt1s3rgc88tjyzrx84cm0000gq/T/ipykernel_71095/3992898625.py\u001b[0m in \u001b[0;36mgenerate_fe_and_pe\u001b[0;34m(dr, models_to_generate_explanations, days_to_look_back)\u001b[0m\n\u001b[1;32m     13\u001b[0m             \u001b[0;32mfor\u001b[0m \u001b[0mmodel\u001b[0m \u001b[0;32min\u001b[0m \u001b[0mmodels\u001b[0m\u001b[0;34m:\u001b[0m\u001b[0;34m\u001b[0m\u001b[0;34m\u001b[0m\u001b[0m\n\u001b[1;32m     14\u001b[0m                 \u001b[0;32mif\u001b[0m \u001b[0mi\u001b[0m \u001b[0;34m<\u001b[0m \u001b[0mmodels_to_generate_explanations\u001b[0m\u001b[0;34m:\u001b[0m\u001b[0;34m\u001b[0m\u001b[0;34m\u001b[0m\u001b[0m\n\u001b[0;32m---> 15\u001b[0;31m                     \u001b[0mfeature_effects\u001b[0m \u001b[0;34m=\u001b[0m \u001b[0mmodel\u001b[0m\u001b[0;34m.\u001b[0m\u001b[0mget_or_request_feature_effect\u001b[0m\u001b[0;34m(\u001b[0m\u001b[0msource\u001b[0m\u001b[0;34m=\u001b[0m\u001b[0;34m'validation'\u001b[0m\u001b[0;34m)\u001b[0m\u001b[0;34m\u001b[0m\u001b[0;34m\u001b[0m\u001b[0m\n\u001b[0m\u001b[1;32m     16\u001b[0m                     \u001b[0;31m# Initialise prediction explanations\u001b[0m\u001b[0;34m\u001b[0m\u001b[0;34m\u001b[0m\u001b[0;34m\u001b[0m\u001b[0m\n\u001b[1;32m     17\u001b[0m                     \u001b[0mdr\u001b[0m\u001b[0;34m.\u001b[0m\u001b[0mPredictionExplanationsInitialization\u001b[0m\u001b[0;34m.\u001b[0m\u001b[0mcreate\u001b[0m\u001b[0;34m(\u001b[0m\u001b[0mproject\u001b[0m\u001b[0;34m.\u001b[0m\u001b[0mid\u001b[0m\u001b[0;34m,\u001b[0m \u001b[0mmodel\u001b[0m\u001b[0;34m.\u001b[0m\u001b[0mid\u001b[0m\u001b[0;34m)\u001b[0m\u001b[0;34m\u001b[0m\u001b[0;34m\u001b[0m\u001b[0m\n",
      "\u001b[0;32m~/Documents/Paxata/development/datarobot/please_explain/venv/lib/python3.7/site-packages/datarobot/models/model.py\u001b[0m in \u001b[0;36mget_or_request_feature_effect\u001b[0;34m(self, source, max_wait, row_count)\u001b[0m\n\u001b[1;32m   1385\u001b[0m \u001b[0;34m\u001b[0m\u001b[0m\n\u001b[1;32m   1386\u001b[0m         \u001b[0mparams\u001b[0m \u001b[0;34m=\u001b[0m \u001b[0;34m{\u001b[0m\u001b[0;34m\"source\"\u001b[0m\u001b[0;34m:\u001b[0m \u001b[0msource\u001b[0m\u001b[0;34m}\u001b[0m\u001b[0;34m\u001b[0m\u001b[0;34m\u001b[0m\u001b[0m\n\u001b[0;32m-> 1387\u001b[0;31m         \u001b[0;32mreturn\u001b[0m \u001b[0mfeature_effect_job\u001b[0m\u001b[0;34m.\u001b[0m\u001b[0mget_result_when_complete\u001b[0m\u001b[0;34m(\u001b[0m\u001b[0mmax_wait\u001b[0m\u001b[0;34m=\u001b[0m\u001b[0mmax_wait\u001b[0m\u001b[0;34m,\u001b[0m \u001b[0mparams\u001b[0m\u001b[0;34m=\u001b[0m\u001b[0mparams\u001b[0m\u001b[0;34m)\u001b[0m\u001b[0;34m\u001b[0m\u001b[0;34m\u001b[0m\u001b[0m\n\u001b[0m\u001b[1;32m   1388\u001b[0m \u001b[0;34m\u001b[0m\u001b[0m\n\u001b[1;32m   1389\u001b[0m     \u001b[0;32mdef\u001b[0m \u001b[0m_get_feature_fit_url\u001b[0m\u001b[0;34m(\u001b[0m\u001b[0mself\u001b[0m\u001b[0;34m)\u001b[0m\u001b[0;34m:\u001b[0m\u001b[0;34m\u001b[0m\u001b[0;34m\u001b[0m\u001b[0m\n",
      "\u001b[0;32m~/Documents/Paxata/development/datarobot/please_explain/venv/lib/python3.7/site-packages/datarobot/models/job.py\u001b[0m in \u001b[0;36mget_result_when_complete\u001b[0;34m(self, max_wait, params)\u001b[0m\n\u001b[1;32m    263\u001b[0m             )\n\u001b[1;32m    264\u001b[0m \u001b[0;34m\u001b[0m\u001b[0m\n\u001b[0;32m--> 265\u001b[0;31m         \u001b[0mself\u001b[0m\u001b[0;34m.\u001b[0m\u001b[0mwait_for_completion\u001b[0m\u001b[0;34m(\u001b[0m\u001b[0mmax_wait\u001b[0m\u001b[0;34m=\u001b[0m\u001b[0mmax_wait\u001b[0m\u001b[0;34m)\u001b[0m\u001b[0;34m\u001b[0m\u001b[0;34m\u001b[0m\u001b[0m\n\u001b[0m\u001b[1;32m    266\u001b[0m         \u001b[0;32mreturn\u001b[0m \u001b[0mself\u001b[0m\u001b[0;34m.\u001b[0m\u001b[0m_make_result_from_location\u001b[0m\u001b[0;34m(\u001b[0m\u001b[0mself\u001b[0m\u001b[0;34m.\u001b[0m\u001b[0m_completed_resource_url\u001b[0m\u001b[0;34m,\u001b[0m \u001b[0mparams\u001b[0m\u001b[0;34m=\u001b[0m\u001b[0mparams\u001b[0m\u001b[0;34m)\u001b[0m\u001b[0;34m\u001b[0m\u001b[0;34m\u001b[0m\u001b[0m\n\u001b[1;32m    267\u001b[0m \u001b[0;34m\u001b[0m\u001b[0m\n",
      "\u001b[0;32m~/Documents/Paxata/development/datarobot/please_explain/venv/lib/python3.7/site-packages/datarobot/models/job.py\u001b[0m in \u001b[0;36mwait_for_completion\u001b[0;34m(self, max_wait)\u001b[0m\n\u001b[1;32m    228\u001b[0m         \"\"\"\n\u001b[1;32m    229\u001b[0m         \u001b[0;32mtry\u001b[0m\u001b[0;34m:\u001b[0m\u001b[0;34m\u001b[0m\u001b[0;34m\u001b[0m\u001b[0m\n\u001b[0;32m--> 230\u001b[0;31m             \u001b[0mwait_for_async_resolution\u001b[0m\u001b[0;34m(\u001b[0m\u001b[0mself\u001b[0m\u001b[0;34m.\u001b[0m\u001b[0m_client\u001b[0m\u001b[0;34m,\u001b[0m \u001b[0mself\u001b[0m\u001b[0;34m.\u001b[0m\u001b[0m_this_job_path\u001b[0m\u001b[0;34m(\u001b[0m\u001b[0;34m)\u001b[0m\u001b[0;34m,\u001b[0m \u001b[0mmax_wait\u001b[0m\u001b[0;34m=\u001b[0m\u001b[0mmax_wait\u001b[0m\u001b[0;34m)\u001b[0m\u001b[0;34m\u001b[0m\u001b[0;34m\u001b[0m\u001b[0m\n\u001b[0m\u001b[1;32m    231\u001b[0m         \u001b[0;32mfinally\u001b[0m\u001b[0;34m:\u001b[0m\u001b[0;34m\u001b[0m\u001b[0;34m\u001b[0m\u001b[0m\n\u001b[1;32m    232\u001b[0m             \u001b[0;31m# We are gonna try to update the job data, that's OK if it fails too (rare cases)\u001b[0m\u001b[0;34m\u001b[0m\u001b[0;34m\u001b[0m\u001b[0;34m\u001b[0m\u001b[0m\n",
      "\u001b[0;32m~/Documents/Paxata/development/datarobot/please_explain/venv/lib/python3.7/site-packages/datarobot/utils/waiters.py\u001b[0m in \u001b[0;36mwait_for_async_resolution\u001b[0;34m(client, async_location, max_wait)\u001b[0m\n\u001b[1;32m    108\u001b[0m             \u001b[0;32mreturn\u001b[0m \u001b[0mdata\u001b[0m\u001b[0;34m\u001b[0m\u001b[0;34m\u001b[0m\u001b[0m\n\u001b[1;32m    109\u001b[0m \u001b[0;34m\u001b[0m\u001b[0m\n\u001b[0;32m--> 110\u001b[0;31m     \u001b[0;32mreturn\u001b[0m \u001b[0mwait_for_custom_resolution\u001b[0m\u001b[0;34m(\u001b[0m\u001b[0mclient\u001b[0m\u001b[0;34m,\u001b[0m \u001b[0masync_location\u001b[0m\u001b[0;34m,\u001b[0m \u001b[0masync_resolved\u001b[0m\u001b[0;34m,\u001b[0m \u001b[0mmax_wait\u001b[0m\u001b[0;34m)\u001b[0m\u001b[0;34m\u001b[0m\u001b[0;34m\u001b[0m\u001b[0m\n\u001b[0m",
      "\u001b[0;32m~/Documents/Paxata/development/datarobot/please_explain/venv/lib/python3.7/site-packages/datarobot/utils/waiters.py\u001b[0m in \u001b[0;36mwait_for_custom_resolution\u001b[0;34m(client, url, success_fn, max_wait)\u001b[0m\n\u001b[1;32m     64\u001b[0m     \u001b[0mtimeout_msg\u001b[0m \u001b[0;34m=\u001b[0m \u001b[0;34m\"Client timed out in {} seconds waiting for {} to resolve. Last status was {}: {}\"\u001b[0m\u001b[0;34m\u001b[0m\u001b[0;34m\u001b[0m\u001b[0m\n\u001b[1;32m     65\u001b[0m     raise errors.AsyncTimeoutError(\n\u001b[0;32m---> 66\u001b[0;31m         \u001b[0mtimeout_msg\u001b[0m\u001b[0;34m.\u001b[0m\u001b[0mformat\u001b[0m\u001b[0;34m(\u001b[0m\u001b[0mmax_wait\u001b[0m\u001b[0;34m,\u001b[0m \u001b[0murl\u001b[0m\u001b[0;34m,\u001b[0m \u001b[0mresponse\u001b[0m\u001b[0;34m.\u001b[0m\u001b[0mstatus_code\u001b[0m\u001b[0;34m,\u001b[0m \u001b[0mresponse\u001b[0m\u001b[0;34m.\u001b[0m\u001b[0mtext\u001b[0m\u001b[0;34m)\u001b[0m\u001b[0;34m\u001b[0m\u001b[0;34m\u001b[0m\u001b[0m\n\u001b[0m\u001b[1;32m     67\u001b[0m     )\n\u001b[1;32m     68\u001b[0m \u001b[0;34m\u001b[0m\u001b[0m\n",
      "\u001b[0;31mAsyncTimeoutError\u001b[0m: Client timed out in 600 seconds waiting for projects/6174f0bd6e31e58dba3f018c/jobs/66/ to resolve. Last status was 200: {\"id\": \"66\", \"projectId\": \"6174f0bd6e31e58dba3f018c\", \"status\": \"inprogress\", \"jobType\": \"featureEffects\", \"isBlocked\": false, \"url\": \"https://app.datarobot.com/api/v2/projects/6174f0bd6e31e58dba3f018c/jobs/66/\", \"modelId\": \"617500f0d3f1cfb6ee816265\"}"
     ]
    }
   ],
   "source": [
    "print (\"Number of projects Processed =\" + str( generate_fe_and_pe(dr, models_to_generate_explanations, days_to_look_back)))"
   ]
  }
 ],
 "metadata": {
  "interpreter": {
   "hash": "40e281f22401b0c10983af1eb24b5aa8ffac23a3015c780c3459e045171859d5"
  },
  "kernelspec": {
   "display_name": "Python 3.7.3 64-bit ('venv': venv)",
   "name": "python3"
  },
  "language_info": {
   "codemirror_mode": {
    "name": "ipython",
    "version": 3
   },
   "file_extension": ".py",
   "mimetype": "text/x-python",
   "name": "python",
   "nbconvert_exporter": "python",
   "pygments_lexer": "ipython3",
   "version": "3.7.3"
  }
 },
 "nbformat": 4,
 "nbformat_minor": 4
}
